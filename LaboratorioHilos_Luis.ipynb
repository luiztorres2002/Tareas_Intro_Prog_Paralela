{
  "nbformat": 4,
  "nbformat_minor": 0,
  "metadata": {
    "colab": {
      "provenance": [],
      "authorship_tag": "ABX9TyNa4+RaM2zIxD+cu9xT6NJG",
      "include_colab_link": true
    },
    "kernelspec": {
      "name": "python3",
      "display_name": "Python 3"
    },
    "language_info": {
      "name": "python"
    }
  },
  "cells": [
    {
      "cell_type": "markdown",
      "metadata": {
        "id": "view-in-github",
        "colab_type": "text"
      },
      "source": [
        "<a href=\"https://colab.research.google.com/github/luiztorres2002/Tareas_Intro_Prog_Paralela/blob/main/LaboratorioHilos_Luis.ipynb\" target=\"_parent\"><img src=\"https://colab.research.google.com/assets/colab-badge.svg\" alt=\"Open In Colab\"/></a>"
      ]
    },
    {
      "cell_type": "code",
      "execution_count": 30,
      "metadata": {
        "id": "APPBLWGAxuiG"
      },
      "outputs": [],
      "source": [
        "import threading\n",
        "import random\n",
        "import time\n",
        "\n"
      ]
    },
    {
      "cell_type": "code",
      "source": [
        "def ordena_subvector(subvector, hilo):\n",
        "    tiempo_inicio = time.time()\n",
        "    subvector.sort()\n",
        "    print(subvector)\n",
        "    tiempo_fin = time.time()\n",
        "    tiempo_ejecucion= tiempo_fin - tiempo_inicio\n",
        "    print(f\"Hilo {hilo}: Subvector ordenado (Tiempo: {tiempo_ejecucion} segundos)\")\n",
        "\n"
      ],
      "metadata": {
        "id": "8kXVr3cQy6_u"
      },
      "execution_count": 31,
      "outputs": []
    },
    {
      "cell_type": "code",
      "source": [
        "def dividir_vector(vector, num_hilos):\n",
        "  longitud_subvector = len(vector) // num_hilos\n",
        "  subvectores = [vector[i:i+longitud_subvector] for i in range(0, len(vector), longitud_subvector)]\n",
        "  return subvectores\n",
        "\n"
      ],
      "metadata": {
        "id": "84ljpLxpzkZl"
      },
      "execution_count": 32,
      "outputs": []
    },
    {
      "cell_type": "code",
      "source": [
        "def unir_vectores(subvectores):\n",
        "  vector_ordenado = [num for subvector in subvectores for num in subvector]\n",
        "  return vector_ordenado\n",
        "\n"
      ],
      "metadata": {
        "id": "nPHDaUzj0LSt"
      },
      "execution_count": 33,
      "outputs": []
    },
    {
      "cell_type": "code",
      "source": [
        "def ordenar_vector(vector, num_hilos):\n",
        "  tiempo_inicio = time.time()\n",
        "  subvectores = dividir_vector(vector, num_hilos)\n",
        "  threads = []\n",
        "\n",
        "  for i, subvector in enumerate(subvectores):\n",
        "      thread = threading.Thread(target=ordena_subvector, args=(subvector, i))\n",
        "      thread.start()\n",
        "      threads.append(thread)\n",
        "  for thread in threads:\n",
        "      thread.join()\n",
        "  vector_ordenado = unir_vectores(subvectores)\n",
        "  vector_ordenado.sort()\n",
        "  print(f\"Vector ordenado final: {vector_ordenado}\")\n",
        "  tiempo_fin = time.time()\n",
        "  tiempo_ejecucion= tiempo_fin-tiempo_inicio\n",
        "  print(\"El tiempo final es:\",tiempo_ejecucion)\n",
        "\n",
        "vector_grande = [random.randint(1, 100) for _ in range(100)]\n",
        "\n",
        "num_hilos = int(input(\"Ingrese la cantidad de hilos: \"))\n",
        "\n",
        "ordenar_vector(vector=vector_grande, num_hilos=num_hilos)\n"
      ],
      "metadata": {
        "colab": {
          "base_uri": "https://localhost:8080/"
        },
        "id": "AnglGVmI0cj1",
        "outputId": "44caefbb-51f1-4b1e-dd65-d5f1314349c3"
      },
      "execution_count": 34,
      "outputs": [
        {
          "output_type": "stream",
          "name": "stdout",
          "text": [
            "Ingrese la cantidad de hilos: 10\n",
            "[22, 25, 26, 29, 35, 57, 64, 89, 96, 99]\n",
            "Hilo 0: Subvector ordenado (Tiempo: 0.0004017353057861328 segundos)\n",
            "[6, 36, 45, 72, 76, 78, 80, 85, 87, 92]\n",
            "Hilo 1: Subvector ordenado (Tiempo: 0.0010569095611572266 segundos)\n",
            "[4, 14, 17, 18, 26, 54, 54, 71, 80, 85]\n",
            "Hilo 2: Subvector ordenado (Tiempo: 0.00018143653869628906 segundos)\n",
            "[4, 18, 19, 24, 27, 32, 41, 51, 73, 76]\n",
            "Hilo 3: Subvector ordenado (Tiempo: 0.0001628398895263672 segundos)\n",
            "[19, 19, 41, 42, 46, 52, 74, 79, 80, 86]\n",
            "Hilo 4: Subvector ordenado (Tiempo: 0.0002503395080566406 segundos)\n",
            "[24, 31, 36, 49, 70, 71, 73, 77, 82, 94]\n",
            "Hilo 5: Subvector ordenado (Tiempo: 0.00014972686767578125 segundos)\n",
            "[16, 24, 33, 51, 69, 74, 84, 92, 99, 100]\n",
            "Hilo 6: Subvector ordenado (Tiempo: 0.0003714561462402344 segundos)\n",
            "[3, 9, 16, 39, 70, 72, 75, 85, 91, 92]\n",
            "Hilo 7: Subvector ordenado (Tiempo: 0.00016045570373535156 segundos)\n",
            "[6, 16, 34, 36, 46, 65, 83, 91, 93, 98]\n",
            "Hilo 8: Subvector ordenado (Tiempo: 0.0002276897430419922 segundos)\n",
            "[10, 13, 32, 53, 72, 80, 92, 92, 97, 98]\n",
            "Hilo 9: Subvector ordenado (Tiempo: 0.0005433559417724609 segundos)\n",
            "Vector ordenado final: [3, 4, 4, 6, 6, 9, 10, 13, 14, 16, 16, 16, 17, 18, 18, 19, 19, 19, 22, 24, 24, 24, 25, 26, 26, 27, 29, 31, 32, 32, 33, 34, 35, 36, 36, 36, 39, 41, 41, 42, 45, 46, 46, 49, 51, 51, 52, 53, 54, 54, 57, 64, 65, 69, 70, 70, 71, 71, 72, 72, 72, 73, 73, 74, 74, 75, 76, 76, 77, 78, 79, 80, 80, 80, 80, 82, 83, 84, 85, 85, 85, 86, 87, 89, 91, 91, 92, 92, 92, 92, 92, 93, 94, 96, 97, 98, 98, 99, 99, 100]\n",
            "El tiempo final es: 0.01512908935546875\n"
          ]
        }
      ]
    }
  ]
}